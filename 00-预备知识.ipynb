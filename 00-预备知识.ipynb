{
 "cells": [
  {
   "cell_type": "markdown",
   "metadata": {},
   "source": [
    "**本文件夹中的项目统一使用Spring Boot+Vue+Mysql作为技术栈**  \n",
    "下面是介绍项目前需要了解的知识  \n",
    "**<font size=\"5\">请注意！不要安装到C盘，你把握不住</font>**"
   ]
  },
  {
   "cell_type": "markdown",
   "metadata": {},
   "source": [
    "## 1. 后端  \n",
    "后端开发工具建议使用IDEA，可在官网下载社区版（学校邮箱可以申请专业版）  \n",
    "安装后第一次启动时会提示选择软件默认工作目录（放项目用的，选个你喜欢的文件夹吧）  \n",
    "如果电脑中没有java，软件会自动提示下载，请选择版本8、11或17  \n",
    "**为了简化开发流程，打开IDEA后请首先选择File->settings->Plugins搜索spring Initializr并安装**（专业版自带）"
   ]
  },
  {
   "cell_type": "markdown",
   "metadata": {},
   "source": [
    "安装完成后选择File->new project新建spring 项目  \n",
    "将Server URL改为start.aliyun.com  \n",
    "选择合适的项目保存位置  \n",
    "其他可以默认（可能会提示安装java）\n",
    "![Markdown](./img/%E6%96%B0%E5%BB%BA%E9%A1%B9%E7%9B%AE.PNG)"
   ]
  },
  {
   "cell_type": "markdown",
   "metadata": {},
   "source": [
    "点击next后进入版本和依赖选择  \n",
    "初始建议选择较低版本，并勾选Web中的spring web，软件会自动根据Server URL下载  \n",
    "点击create创建，等待下载并加载完成\n",
    "![markdown](./img/%E9%80%89%E6%8B%A9%E7%89%88%E6%9C%AC%E5%92%8C%E4%BE%9D%E8%B5%96.PNG)"
   ]
  },
  {
   "cell_type": "markdown",
   "metadata": {},
   "source": [
    "创建完成后在IDEA右侧  \n",
    "![markdown](./img/00-maven.PNG)  \n",
    "双击install安装依赖"
   ]
  },
  {
   "cell_type": "markdown",
   "metadata": {},
   "source": [
    "### 请在每次打开一个新项目的时候都先install一次！"
   ]
  },
  {
   "cell_type": "markdown",
   "metadata": {},
   "source": [
    "安装完成后可直接运行DemoApplication  \n",
    "![markdown](./img/demoapplication.PNG)  \n",
    "命令行出现 **Started DemoApplication in 1.648 seconds (JVM running for 3.704)** 字样代表启动成功  \n",
    "打开浏览器输入http://localhost:8080/  \n",
    "可以看到错误信息  \n",
    "![markdown](./img/errorPage.PNG)"
   ]
  },
  {
   "cell_type": "markdown",
   "metadata": {},
   "source": [
    "在demo文件夹下创建DemoController类  \n",
    "```java\n",
    "@RestController\n",
    "@RequestMapping(\"/demo\")\n",
    "public class DemoController {\n",
    "\n",
    "    @GetMapping(\"/method1\")\n",
    "    public String method1(){\n",
    "        return \"hello, world\";\n",
    "    }\n",
    "}\n",
    "```  \n",
    "其中@RestController使当前类中的方法能够通过网址进行访问，并且类中的所有方法返回值都会包装成JSON数据  \n",
    "@RequestMapping和@GetMapping用于浏览器访问网址的拼接，@GetMapping还代表只接受浏览器的GET请求  \n",
    "  \n",
    "重新运行项目后，访问http://localhost:8080/demo/method1，可看到方法返回值\n"
   ]
  },
  {
   "cell_type": "markdown",
   "metadata": {},
   "source": [
    "以上只是最简单的示例，想要无障碍阅读并开发程序，请先阅读下方参考书目，如果你喜欢视频的话，推荐：  \n",
    "* https://www.bilibili.com/video/BV1PE411i7CV"
   ]
  },
  {
   "cell_type": "markdown",
   "metadata": {},
   "source": [
    "*参考进阶*  \n",
    "* 《Spring实战（第5版）》\n",
    "* 《深入浅出Spring Boot 2.x》\n",
    "* 《Spring Boot实战》（克雷格·沃斯）——不是很推荐，太老了"
   ]
  },
  {
   "cell_type": "markdown",
   "metadata": {},
   "source": [
    "## 2. 前端"
   ]
  },
  {
   "cell_type": "markdown",
   "metadata": {},
   "source": [
    "前端配置比较繁琐  \n",
    "**第一步**  \n",
    "搜索Nodejs并安装  \n",
    "https://www.runoob.com/nodejs/nodejs-install-setup.html推荐第一种方法  \n",
    "**第二步**  \n",
    "win+r键弹出窗口，输入cmd启动命令行  \n",
    "运行npm install vue 安装vue框架"
   ]
  },
  {
   "cell_type": "markdown",
   "metadata": {},
   "source": [
    "前端示例不太容易解释，请通过下方视频学习  \n",
    "https://www.bilibili.com/video/BV1i5411A7gu"
   ]
  },
  {
   "cell_type": "markdown",
   "metadata": {},
   "source": [
    "以上安装过程需要访问海外网址，网络不通畅的话请自行搜索更换npm镜像，或百度“懒得勤快”探索新世界的大门"
   ]
  },
  {
   "cell_type": "markdown",
   "metadata": {},
   "source": []
  }
 ],
 "metadata": {
  "language_info": {
   "name": "python"
  },
  "orig_nbformat": 4
 },
 "nbformat": 4,
 "nbformat_minor": 2
}
