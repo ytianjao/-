{
 "cells": [
  {
   "cell_type": "markdown",
   "metadata": {},
   "source": [
    "**本项目实现的功能为：**  \n",
    "1. 通过百度开源api获得表单图片的文字识别结果，并保存数据库  \n",
    "2. 通过spring boot+vue简易实现查改功能"
   ]
  },
  {
   "cell_type": "markdown",
   "metadata": {},
   "source": [
    "## 1.项目启动"
   ]
  },
  {
   "cell_type": "markdown",
   "metadata": {},
   "source": [
    "项目分为三个模块：  \n",
    "1. python调用api实现识别功能\n",
    "2. spring boot+mysql实现数据交互\n",
    "3. vue实现前端页面"
   ]
  },
  {
   "cell_type": "markdown",
   "metadata": {},
   "source": [
    "**1.后端**  \n",
    "![markdown](./img/01-%E9%A1%B9%E7%9B%AE%E6%96%87%E4%BB%B6%E7%9B%AE%E5%BD%95.PNG)  \n",
    "如图，项目中分为项目配置（application.yml）和具体代码两部分  \n",
    "直接启动只需两步：  \n",
    "第一步：mysql中建立一个空数据库，将sql文件夹中的\"01-biaodan.sql\"通过mysql执行（sqlyog和navicat都可以，前者应该都用过，后者比较先进，请自行搜索安装）  \n",
    "第二步：修改application.yml  \n",
    "![markdown](./img/01-%E9%A1%B9%E7%9B%AE%E9%85%8D%E7%BD%AE.PNG)  \n",
    "把“biaodan”换成你创建的数据库的名字，并改成你自己的mysql账户和密码  \n",
    "   \n",
    "运行DemoApplication即可启动后端项目  \n",
    "访问http://localhost:8081/biaodan/data可以看到查询出的数据"
   ]
  },
  {
   "cell_type": "markdown",
   "metadata": {},
   "source": [
    "2.前端\n",
    "文件目录如图  \n",
    "![markdown](./img/01-%E5%89%8D%E7%AB%AF%E6%96%87%E4%BB%B6%E7%9B%AE%E5%BD%95.PNG)  \n",
    "nodejs和vue安装完成后，启动前端只需在IDEA下方Terminal处输入npm install  \n",
    "安装完项目依赖后输入npm run serve即可运行，软件会自动提示访问路径，如：  http://localhost:8080/  \n",
    "（可能会出现不明#号，不影响）  \n",
    "示例图片在public文件夹中"
   ]
  },
  {
   "cell_type": "markdown",
   "metadata": {},
   "source": [
    "3.python api调用部分  \n",
    "目前代码已有变化，可以根据识别结果的列数动态生成数据表，因此直接运行python程序生成的表名可能和后端程序中有出入，但sql文件中不同版本的数据表都有，只是示例的话不影响后端运行，详情请看表单识别项目中的“百度api实现”文件"
   ]
  },
  {
   "cell_type": "markdown",
   "metadata": {},
   "source": [
    "## 2.需要改进的地方"
   ]
  },
  {
   "cell_type": "markdown",
   "metadata": {},
   "source": [
    "1.后端项目中，与数据表对应的类存放在model文件夹中，目前只有biaodan_table2的对应类  \n",
    "同时，dao文件夹中存放程序与数据库交互的具体方法，同样只有一个BiaodanDao作为对应  \n",
    "  \n",
    "\n",
    "当新建数据表后，需要在model中创建对应的java类，对应规则为表名：biaodan_col_counts_3 -> biaodanColCounts3.class（驼峰命名法，主要是后端中的mybatis依赖的要求）  \n",
    "同时，dao文件夹中需要编写对应的查询、修改等语句，可参考BiaodanDao  \n",
    "\n",
    "2.前端太丑了，有能力的话请做的好看点，当然前提是你会"
   ]
  },
  {
   "cell_type": "markdown",
   "metadata": {},
   "source": [
    "**你应该再做什么？**"
   ]
  },
  {
   "cell_type": "markdown",
   "metadata": {},
   "source": [
    "这只是个示例，标准开发流程应该是python创建数据库后，后端利用mybatis-generator插件自动根据数据表生成对应的类和dao（可能是mapper，无所谓的），可以非常有效节省时间。但请看完预备知识中的参考进阶后再尝试  \n",
    "参考：  \n",
    "https://blog.csdn.net/weixin_42250302/article/details/106986707  \n",
    "  \n",
    "https://www.macrozheng.com/mall/architect/mall_arch_01.html#mysql%E6%95%B0%E6%8D%AE%E5%BA%93%E7%8E%AF%E5%A2%83%E6%90%AD%E5%BB%BA  \n",
    "  \n",
    "https://www.macrozheng.com/mall/technology/mybatis_mapper.html#%E9%97%AE%E9%A2%98%E9%87%8D%E7%8E%B0"
   ]
  },
  {
   "cell_type": "markdown",
   "metadata": {},
   "source": []
  }
 ],
 "metadata": {
  "language_info": {
   "name": "python"
  },
  "orig_nbformat": 4
 },
 "nbformat": 4,
 "nbformat_minor": 2
}
