{
 "cells": [
  {
   "cell_type": "markdown",
   "metadata": {},
   "source": [
    "**python部分第一步是利用百度开源api实现表格OCR**  \n",
    "官网：https://ai.baidu.com/tech/ocr_others/table  \n",
    "首先将access_token替换成自己在官网申请的，或者直接不改用我这个  \n",
    "将示例图片编码  \n",
    "将url拼接完成即可通过post方法访问  \n",
    "最后得到识别结果tmp_json"
   ]
  },
  {
   "cell_type": "code",
   "execution_count": null,
   "metadata": {},
   "outputs": [],
   "source": [
    "import requests\n",
    "import base64\n",
    "\n",
    "'''\n",
    "表格文字识别(同步接口)\n",
    "'''\n",
    "\n",
    "request_url = \" https://aip.baidubce.com/rest/2.0/ocr/v1/form\"\n",
    "# 二进制方式打开图片文件\n",
    "f = open('数据统计表.jpg', 'rb')\n",
    "img = base64.b64encode(f.read())\n",
    "\n",
    "params = {\"image\":img}\n",
    "access_token = '24.a98b3ee50766f53e05a6a40e48ed89f0.2592000.1651062269.282335-20364685'\n",
    "request_url = request_url + \"?access_token=\" + access_token\n",
    "headers = {'content-type': 'application/x-www-form-urlencoded'}\n",
    "response = requests.post(request_url, data=params, headers=headers)\n",
    "# 原始数据\n",
    "tmp_json = response.json()"
   ]
  },
  {
   "cell_type": "markdown",
   "metadata": {},
   "source": [
    "### 请自行观察识别结果，并将其保存，这个你该会的"
   ]
  },
  {
   "cell_type": "markdown",
   "metadata": {},
   "source": [
    "得到结果需要对数据进行初步处理，这个可能每个人都不一样，我只需要text = text.replace(\"'\", \"\\\"\")，但只要json.loads(text)不出错就可以  \n",
    "具体解释请看代码注释"
   ]
  },
  {
   "cell_type": "code",
   "execution_count": null,
   "metadata": {},
   "outputs": [],
   "source": [
    "#数据已提前保存\n",
    "f_r = open('./表格返回数据/复杂表格.txt', 'r', encoding='utf-8')\n",
    "import json\n",
    "import pymysql\n",
    "text = f_r.read()\n",
    "text = text.replace(\"'\", \"\\\"\")\n",
    "text_j = json.loads(text)\n",
    "\n",
    "#用json读取后的数据\n",
    "body = text_j['forms_result'][0]['body']\n",
    "\n",
    "#这是示例，只需要表格中具体内容即可，因此把数据进行了简单的截取。后期如果需要表名，这里可能就不需要了\n",
    "start_index = 0\n",
    "for i in range(len(body)):\n",
    "    if body[i]['words'].startswith('重量'):\n",
    "        start_index = i\n",
    "        break\n",
    "\n",
    "end_index = 0\n",
    "for i in range(len(body)):\n",
    "    if body[i]['words'].startswith('0.41'):\n",
    "        end_index = i\n",
    "        break\n",
    "\n",
    "\n",
    "#返回的结果已经大致按照从上到下，从左到右的顺序排列，我们只需要按照表每一格的左下坐标x就能区分是不是当前行，\n",
    "#当x小于上一个x时，说明是新的一行，可以把上一行的数据放入results\n",
    "results = []\n",
    "tmp = []\n",
    "tmp.append(body[start_index]['words'])\n",
    "tmp_x = body[start_index]['vertexes_location'][3]['x']\n",
    "for i in range(start_index+1, end_index+1):\n",
    "    words = body[i]['words']\n",
    "    x = body[i]['vertexes_location'][3]['x']\n",
    "    if x < tmp_x:\n",
    "        \n",
    "        results.append(tmp)\n",
    "        tmp = []\n",
    "        tmp.append(words)\n",
    "    else:\n",
    "        tmp.append(words)\n",
    "    tmp_x = x\n",
    "results.append(tmp)\n",
    "print(results)#这里有个输出，用于观察数据是否正确\n"
   ]
  },
  {
   "cell_type": "markdown",
   "metadata": {},
   "source": [
    "**下面是保存数据库**"
   ]
  },
  {
   "cell_type": "code",
   "execution_count": null,
   "metadata": {},
   "outputs": [],
   "source": [
    "\n",
    "#因为表的格式不一定规范，所以首先寻找数组最大长度\n",
    "max_len = 0\n",
    "for result in results:\n",
    "    max_len = max(max_len, len(result))\n",
    "print(max_len)\n",
    "\n",
    "#把数组按照最大长度补齐\n",
    "results_copy = []\n",
    "for result in results:\n",
    "    while len(result) < max_len:\n",
    "        result.insert(0,'')\n",
    "    results_copy.append(result)\n",
    "print(results_copy)"
   ]
  },
  {
   "cell_type": "code",
   "execution_count": null,
   "metadata": {},
   "outputs": [],
   "source": [
    "#把数据插入数据库\n",
    "db = pymysql.connect(host=\"localhost\",user=\"root\",password=\"123456\",database=\"biaodan\" )\n",
    "cursor = db.cursor()\n",
    "\n",
    "#如果不存在就创建表，以列的长度为表名：‘biaodan_col_counts_列数，也是数组最大长度’，\n",
    "# 一般表的第一列都是序号，所以是id\n",
    "sql_col = ''\n",
    "for i in range(max_len):\n",
    "    sql_col += 'col' + str(i+1) + ' varchar(255) NULL,'\n",
    "\n",
    "sql = '''CREATE TABLE if not exists `biaodan`.`biaodan_col_counts_''' +str(max_len)+ '''`  (\n",
    "  `id` int(64) NOT NULL AUTO_INCREMENT,\n",
    "    ''' + sql_col + '''\n",
    "  PRIMARY KEY (`id`)\n",
    ");'''\n",
    "print(sql)#拼接后的sql语句\n",
    "cursor.execute(sql)\n",
    "res = cursor.fetchall()\n",
    "print(res)"
   ]
  },
  {
   "cell_type": "code",
   "execution_count": null,
   "metadata": {},
   "outputs": [],
   "source": [
    "#插入多条数据\n",
    "sql_table_col = ''\n",
    "for i in range(max_len):\n",
    "    sql_table_col += 'col' + str(i+1) + ','\n",
    "sql_table_col = sql_table_col[:-1]\n",
    "sql_val = ''\n",
    "for i in range(max_len):\n",
    "    sql_val += '%s,'\n",
    "sql_val = sql_val[:-1]\n",
    "sql = 'insert into biaodan_col_counts_' + str(max_len) + '(' + sql_table_col + ') values (' + sql_val + ')'\n",
    "print(sql)#拼接后的sql语句\n",
    "cursor.executemany(sql, results_copy)\n",
    "db.commit()"
   ]
  },
  {
   "cell_type": "code",
   "execution_count": null,
   "metadata": {},
   "outputs": [],
   "source": [
    "db.close()#关闭数据库"
   ]
  }
 ],
 "metadata": {
  "interpreter": {
   "hash": "ad2bdc8ecc057115af97d19610ffacc2b4e99fae6737bb82f5d7fb13d2f2c186"
  },
  "kernelspec": {
   "display_name": "Python 3.8.3 ('base')",
   "language": "python",
   "name": "python3"
  },
  "language_info": {
   "codemirror_mode": {
    "name": "ipython",
    "version": 3
   },
   "file_extension": ".py",
   "mimetype": "text/x-python",
   "name": "python",
   "nbconvert_exporter": "python",
   "pygments_lexer": "ipython3",
   "version": "3.8.3"
  },
  "orig_nbformat": 4
 },
 "nbformat": 4,
 "nbformat_minor": 2
}
